{
 "cells": [
  {
   "cell_type": "code",
   "execution_count": 1,
   "metadata": {},
   "outputs": [],
   "source": [
    "import pandas as pd\n",
    "import numpy as np"
   ]
  },
  {
   "cell_type": "code",
   "execution_count": 2,
   "metadata": {},
   "outputs": [
    {
     "name": "stdout",
     "output_type": "stream",
     "text": [
      "z is divisible by 2\n"
     ]
    }
   ],
   "source": [
    "z = 6\n",
    "if z % 2 ==0:\n",
    "    print('z is divisible by 2')\n",
    "elif z %3 ==0:\n",
    "    print('z is divisible by 3')\n",
    "else:\n",
    "    print('z is neither divisible by 2 nor by 3')"
   ]
  },
  {
   "cell_type": "markdown",
   "metadata": {},
   "source": [
    "### While loop\n",
    "\n",
    "while condition:\n",
    "    expression"
   ]
  },
  {
   "cell_type": "code",
   "execution_count": 4,
   "metadata": {},
   "outputs": [
    {
     "name": "stdout",
     "output_type": "stream",
     "text": [
      "50\n",
      "12.5\n",
      "3.125\n"
     ]
    }
   ],
   "source": [
    "error = 50\n",
    "\n",
    "while error >1:\n",
    "    print(error)\n",
    "    error = error /4"
   ]
  },
  {
   "cell_type": "code",
   "execution_count": 6,
   "metadata": {},
   "outputs": [
    {
     "name": "stdout",
     "output_type": "stream",
     "text": [
      "12.5\n",
      "3.125\n",
      "0.78125\n"
     ]
    }
   ],
   "source": [
    "error = 50\n",
    "while error >1:\n",
    "    error = error /4\n",
    "    print(error)"
   ]
  },
  {
   "cell_type": "code",
   "execution_count": 7,
   "metadata": {},
   "outputs": [
    {
     "name": "stdout",
     "output_type": "stream",
     "text": [
      "[1.73, 1.68, 1.71, 1.89]\n"
     ]
    }
   ],
   "source": [
    "fam = [1.73, 1.68, 1.71, 1.89]\n",
    "print(fam)"
   ]
  },
  {
   "cell_type": "code",
   "execution_count": 10,
   "metadata": {},
   "outputs": [
    {
     "name": "stdout",
     "output_type": "stream",
     "text": [
      "1.73\n",
      "1.68\n",
      "1.71\n",
      "1.89\n"
     ]
    }
   ],
   "source": [
    "for height in fam: \n",
    "    print(height)"
   ]
  },
  {
   "cell_type": "code",
   "execution_count": 11,
   "metadata": {},
   "outputs": [
    {
     "data": {
      "text/plain": [
       "1.68"
      ]
     },
     "execution_count": 11,
     "metadata": {},
     "output_type": "execute_result"
    }
   ],
   "source": [
    "fam[1]"
   ]
  },
  {
   "cell_type": "code",
   "execution_count": 12,
   "metadata": {},
   "outputs": [
    {
     "data": {
      "text/plain": [
       "1.71"
      ]
     },
     "execution_count": 12,
     "metadata": {},
     "output_type": "execute_result"
    }
   ],
   "source": [
    "fam[2]"
   ]
  },
  {
   "cell_type": "code",
   "execution_count": 13,
   "metadata": {
    "scrolled": true
   },
   "outputs": [
    {
     "name": "stdout",
     "output_type": "stream",
     "text": [
      "index0:1.73\n",
      "index1:1.68\n",
      "index2:1.71\n",
      "index3:1.89\n"
     ]
    }
   ],
   "source": [
    "for index, height in enumerate(fam):\n",
    "    print('index ' + str(index) + ':' + str(height))\n",
    "\n",
    "#enumerate: 순서가 index 먼저임.. 스트링으로 바꿔줄것"
   ]
  },
  {
   "cell_type": "code",
   "execution_count": 14,
   "metadata": {},
   "outputs": [],
   "source": [
    "enumerate?"
   ]
  },
  {
   "cell_type": "code",
   "execution_count": 15,
   "metadata": {},
   "outputs": [
    {
     "name": "stdout",
     "output_type": "stream",
     "text": [
      "F\n",
      "A\n",
      "M\n",
      "I\n",
      "L\n",
      "Y\n"
     ]
    }
   ],
   "source": [
    "for char in 'family':\n",
    "    print(char.capitalize())"
   ]
  },
  {
   "cell_type": "code",
   "execution_count": 21,
   "metadata": {},
   "outputs": [
    {
     "name": "stdout",
     "output_type": "stream",
     "text": [
      "1.73\n",
      "1.68\n",
      "1.71\n",
      "1.89\n"
     ]
    }
   ],
   "source": [
    "for height in fam:\n",
    "    print(str(height))"
   ]
  },
  {
   "cell_type": "code",
   "execution_count": 22,
   "metadata": {},
   "outputs": [
    {
     "name": "stdout",
     "output_type": "stream",
     "text": [
      "the 0is['hallway', 11.25]sqm\n",
      "the 1is['kitchen', 18.0]sqm\n",
      "the 2is['living room', 20.0]sqm\n",
      "the 3is['bedroom', 10.75]sqm\n",
      "the 4is['bathroom', 9.5]sqm\n"
     ]
    }
   ],
   "source": [
    "# house list of lists\n",
    "house = [[\"hallway\", 11.25], \n",
    "         [\"kitchen\", 18.0], \n",
    "         [\"living room\", 20.0], \n",
    "         [\"bedroom\", 10.75], \n",
    "         [\"bathroom\", 9.50]]\n",
    "         \n",
    "# Build a for loop from scratch\n",
    "# form: the x is y sqm\n",
    "\n",
    "for x, y in enumerate(house):\n",
    "    print('the '+ str(x) + \"is\" + str(y) + 'sqm')"
   ]
  },
  {
   "cell_type": "code",
   "execution_count": 25,
   "metadata": {},
   "outputs": [
    {
     "name": "stdout",
     "output_type": "stream",
     "text": [
      "the hallway is 11.25 sqm\n",
      "the kitchen is 18.0 sqm\n",
      "the living room is 20.0 sqm\n",
      "the bedroom is 10.75 sqm\n",
      "the bathroom is 9.5 sqm\n"
     ]
    }
   ],
   "source": [
    "for x, y in house:\n",
    "    print('the '+ str(x) + \" is \" + str(y) + ' sqm')"
   ]
  },
  {
   "cell_type": "code",
   "execution_count": 26,
   "metadata": {},
   "outputs": [
    {
     "data": {
      "text/html": [
       "<div>\n",
       "<style scoped>\n",
       "    .dataframe tbody tr th:only-of-type {\n",
       "        vertical-align: middle;\n",
       "    }\n",
       "\n",
       "    .dataframe tbody tr th {\n",
       "        vertical-align: top;\n",
       "    }\n",
       "\n",
       "    .dataframe thead th {\n",
       "        text-align: right;\n",
       "    }\n",
       "</style>\n",
       "<table border=\"1\" class=\"dataframe\">\n",
       "  <thead>\n",
       "    <tr style=\"text-align: right;\">\n",
       "      <th></th>\n",
       "      <th>date</th>\n",
       "      <th>nation</th>\n",
       "      <th>visitor</th>\n",
       "      <th>growth</th>\n",
       "      <th>share</th>\n",
       "      <th>tourism</th>\n",
       "      <th>business</th>\n",
       "      <th>official affairs</th>\n",
       "      <th>studying</th>\n",
       "      <th>others</th>\n",
       "    </tr>\n",
       "  </thead>\n",
       "  <tbody>\n",
       "    <tr>\n",
       "      <th>0</th>\n",
       "      <td>2019-1</td>\n",
       "      <td>China</td>\n",
       "      <td>392814</td>\n",
       "      <td>28.737870</td>\n",
       "      <td>35.555117</td>\n",
       "      <td>320113</td>\n",
       "      <td>2993</td>\n",
       "      <td>138</td>\n",
       "      <td>8793</td>\n",
       "      <td>60777</td>\n",
       "    </tr>\n",
       "    <tr>\n",
       "      <th>1</th>\n",
       "      <td>2019-1</td>\n",
       "      <td>Japan</td>\n",
       "      <td>206526</td>\n",
       "      <td>23.606830</td>\n",
       "      <td>18.693468</td>\n",
       "      <td>198805</td>\n",
       "      <td>2233</td>\n",
       "      <td>127</td>\n",
       "      <td>785</td>\n",
       "      <td>4576</td>\n",
       "    </tr>\n",
       "    <tr>\n",
       "      <th>2</th>\n",
       "      <td>2019-1</td>\n",
       "      <td>Taiwan</td>\n",
       "      <td>87954</td>\n",
       "      <td>16.003693</td>\n",
       "      <td>7.961057</td>\n",
       "      <td>86393</td>\n",
       "      <td>74</td>\n",
       "      <td>22</td>\n",
       "      <td>180</td>\n",
       "      <td>1285</td>\n",
       "    </tr>\n",
       "    <tr>\n",
       "      <th>3</th>\n",
       "      <td>2019-1</td>\n",
       "      <td>Hong Kong</td>\n",
       "      <td>35896</td>\n",
       "      <td>3.533212</td>\n",
       "      <td>3.249086</td>\n",
       "      <td>34653</td>\n",
       "      <td>59</td>\n",
       "      <td>2</td>\n",
       "      <td>90</td>\n",
       "      <td>1092</td>\n",
       "    </tr>\n",
       "    <tr>\n",
       "      <th>4</th>\n",
       "      <td>2019-1</td>\n",
       "      <td>Macao</td>\n",
       "      <td>2570</td>\n",
       "      <td>-12.376406</td>\n",
       "      <td>0.232621</td>\n",
       "      <td>2506</td>\n",
       "      <td>2</td>\n",
       "      <td>0</td>\n",
       "      <td>17</td>\n",
       "      <td>45</td>\n",
       "    </tr>\n",
       "  </tbody>\n",
       "</table>\n",
       "</div>"
      ],
      "text/plain": [
       "     date     nation  visitor     growth      share  tourism  business  \\\n",
       "0  2019-1      China   392814  28.737870  35.555117   320113      2993   \n",
       "1  2019-1      Japan   206526  23.606830  18.693468   198805      2233   \n",
       "2  2019-1     Taiwan    87954  16.003693   7.961057    86393        74   \n",
       "3  2019-1  Hong Kong    35896   3.533212   3.249086    34653        59   \n",
       "4  2019-1      Macao     2570 -12.376406   0.232621     2506         2   \n",
       "\n",
       "   official affairs  studying  others  \n",
       "0               138      8793   60777  \n",
       "1               127       785    4576  \n",
       "2                22       180    1285  \n",
       "3                 2        90    1092  \n",
       "4                 0        17      45  "
      ]
     },
     "execution_count": 26,
     "metadata": {},
     "output_type": "execute_result"
    }
   ],
   "source": [
    "df = pd.read_csv('Enter_korea_by_purpose-Copy1.csv')\n",
    "df.head()"
   ]
  },
  {
   "cell_type": "code",
   "execution_count": 29,
   "metadata": {},
   "outputs": [
    {
     "data": {
      "text/html": [
       "<div>\n",
       "<style scoped>\n",
       "    .dataframe tbody tr th:only-of-type {\n",
       "        vertical-align: middle;\n",
       "    }\n",
       "\n",
       "    .dataframe tbody tr th {\n",
       "        vertical-align: top;\n",
       "    }\n",
       "\n",
       "    .dataframe thead th {\n",
       "        text-align: right;\n",
       "    }\n",
       "</style>\n",
       "<table border=\"1\" class=\"dataframe\">\n",
       "  <thead>\n",
       "    <tr style=\"text-align: right;\">\n",
       "      <th></th>\n",
       "      <th>nation</th>\n",
       "      <th>visitor</th>\n",
       "    </tr>\n",
       "  </thead>\n",
       "  <tbody>\n",
       "    <tr>\n",
       "      <th>0</th>\n",
       "      <td>China</td>\n",
       "      <td>392814</td>\n",
       "    </tr>\n",
       "    <tr>\n",
       "      <th>1</th>\n",
       "      <td>Japan</td>\n",
       "      <td>206526</td>\n",
       "    </tr>\n",
       "    <tr>\n",
       "      <th>2</th>\n",
       "      <td>Taiwan</td>\n",
       "      <td>87954</td>\n",
       "    </tr>\n",
       "    <tr>\n",
       "      <th>3</th>\n",
       "      <td>Hong Kong</td>\n",
       "      <td>35896</td>\n",
       "    </tr>\n",
       "    <tr>\n",
       "      <th>4</th>\n",
       "      <td>Macao</td>\n",
       "      <td>2570</td>\n",
       "    </tr>\n",
       "    <tr>\n",
       "      <th>5</th>\n",
       "      <td>Phillipines</td>\n",
       "      <td>30473</td>\n",
       "    </tr>\n",
       "    <tr>\n",
       "      <th>6</th>\n",
       "      <td>Indonesia</td>\n",
       "      <td>18842</td>\n",
       "    </tr>\n",
       "    <tr>\n",
       "      <th>7</th>\n",
       "      <td>Thailand</td>\n",
       "      <td>41334</td>\n",
       "    </tr>\n",
       "    <tr>\n",
       "      <th>8</th>\n",
       "      <td>Vietnam</td>\n",
       "      <td>20183</td>\n",
       "    </tr>\n",
       "    <tr>\n",
       "      <th>9</th>\n",
       "      <td>India</td>\n",
       "      <td>8671</td>\n",
       "    </tr>\n",
       "    <tr>\n",
       "      <th>10</th>\n",
       "      <td>Malaysia</td>\n",
       "      <td>22065</td>\n",
       "    </tr>\n",
       "  </tbody>\n",
       "</table>\n",
       "</div>"
      ],
      "text/plain": [
       "         nation  visitor\n",
       "0         China   392814\n",
       "1         Japan   206526\n",
       "2        Taiwan    87954\n",
       "3     Hong Kong    35896\n",
       "4         Macao     2570\n",
       "5   Phillipines    30473\n",
       "6     Indonesia    18842\n",
       "7      Thailand    41334\n",
       "8       Vietnam    20183\n",
       "9         India     8671\n",
       "10     Malaysia    22065"
      ]
     },
     "execution_count": 29,
     "metadata": {},
     "output_type": "execute_result"
    }
   ],
   "source": [
    "df = df.loc[0:10, ['nation','visitor']]\n",
    "df"
   ]
  },
  {
   "cell_type": "code",
   "execution_count": 32,
   "metadata": {},
   "outputs": [
    {
     "data": {
      "text/html": [
       "<div>\n",
       "<style scoped>\n",
       "    .dataframe tbody tr th:only-of-type {\n",
       "        vertical-align: middle;\n",
       "    }\n",
       "\n",
       "    .dataframe tbody tr th {\n",
       "        vertical-align: top;\n",
       "    }\n",
       "\n",
       "    .dataframe thead th {\n",
       "        text-align: right;\n",
       "    }\n",
       "</style>\n",
       "<table border=\"1\" class=\"dataframe\">\n",
       "  <thead>\n",
       "    <tr style=\"text-align: right;\">\n",
       "      <th></th>\n",
       "      <th>nation</th>\n",
       "    </tr>\n",
       "  </thead>\n",
       "  <tbody>\n",
       "    <tr>\n",
       "      <th>0</th>\n",
       "      <td>China</td>\n",
       "    </tr>\n",
       "    <tr>\n",
       "      <th>1</th>\n",
       "      <td>Japan</td>\n",
       "    </tr>\n",
       "    <tr>\n",
       "      <th>2</th>\n",
       "      <td>Taiwan</td>\n",
       "    </tr>\n",
       "    <tr>\n",
       "      <th>3</th>\n",
       "      <td>Hong Kong</td>\n",
       "    </tr>\n",
       "    <tr>\n",
       "      <th>5</th>\n",
       "      <td>Phillipines</td>\n",
       "    </tr>\n",
       "    <tr>\n",
       "      <th>6</th>\n",
       "      <td>Indonesia</td>\n",
       "    </tr>\n",
       "    <tr>\n",
       "      <th>7</th>\n",
       "      <td>Thailand</td>\n",
       "    </tr>\n",
       "    <tr>\n",
       "      <th>8</th>\n",
       "      <td>Vietnam</td>\n",
       "    </tr>\n",
       "    <tr>\n",
       "      <th>10</th>\n",
       "      <td>Malaysia</td>\n",
       "    </tr>\n",
       "  </tbody>\n",
       "</table>\n",
       "</div>"
      ],
      "text/plain": [
       "         nation\n",
       "0         China\n",
       "1         Japan\n",
       "2        Taiwan\n",
       "3     Hong Kong\n",
       "5   Phillipines\n",
       "6     Indonesia\n",
       "7      Thailand\n",
       "8       Vietnam\n",
       "10     Malaysia"
      ]
     },
     "execution_count": 32,
     "metadata": {},
     "output_type": "execute_result"
    }
   ],
   "source": [
    "df[['nation']][df['visitor'] >10000]"
   ]
  },
  {
   "cell_type": "code",
   "execution_count": 38,
   "metadata": {},
   "outputs": [
    {
     "data": {
      "text/plain": [
       "array(['China', 'Japan', 'Taiwan', 'Hong Kong', 'Macao', 'Phillipines',\n",
       "       'Indonesia', 'Thailand', 'Vietnam', 'India', 'Malaysia'],\n",
       "      dtype=object)"
      ]
     },
     "execution_count": 38,
     "metadata": {},
     "output_type": "execute_result"
    }
   ],
   "source": [
    "np_df = np.array(df['nation'])\n",
    "np_df"
   ]
  },
  {
   "cell_type": "markdown",
   "metadata": {},
   "source": [
    "## Dictionary needs method =  .items()"
   ]
  },
  {
   "cell_type": "code",
   "execution_count": 39,
   "metadata": {},
   "outputs": [
    {
     "name": "stdout",
     "output_type": "stream",
     "text": [
      "the capital of spain is madrid\n",
      "the capital of france is paris\n",
      "the capital of germany is berlin\n",
      "the capital of norway is oslo\n",
      "the capital of italy is rome\n",
      "the capital of poland is warsaw\n",
      "the capital of austria is vienna\n"
     ]
    }
   ],
   "source": [
    "# Definition of dictionary\n",
    "europe = {'spain':'madrid', 'france':'paris', 'germany':'berlin',\n",
    "          'norway':'oslo', 'italy':'rome', 'poland':'warsaw', 'austria':'vienna' }\n",
    "\n",
    "for x, y in europe.items():\n",
    "    print(\"the capital of \" + str(x)+ \" is \" + str(y))"
   ]
  },
  {
   "cell_type": "markdown",
   "metadata": {},
   "source": [
    "## 2D Numpy needs function = nditer(my_array)"
   ]
  },
  {
   "cell_type": "code",
   "execution_count": 40,
   "metadata": {},
   "outputs": [
    {
     "data": {
      "text/plain": [
       "numpy.ndarray"
      ]
     },
     "execution_count": 40,
     "metadata": {},
     "output_type": "execute_result"
    }
   ],
   "source": [
    "type(np_df)"
   ]
  },
  {
   "cell_type": "code",
   "execution_count": 44,
   "metadata": {},
   "outputs": [
    {
     "data": {
      "text/plain": [
       "[array(['China', 'Japan', 'Taiwan', 'Hong Kong', 'Macao', 'Phillipines',\n",
       "        'Indonesia', 'Thailand', 'Vietnam', 'India', 'Malaysia'],\n",
       "       dtype=object),\n",
       " array(['China', 'Japan', 'Taiwan', 'Hong Kong', 'Macao', 'Phillipines',\n",
       "        'Indonesia', 'Thailand', 'Vietnam', 'India', 'Malaysia'],\n",
       "       dtype=object)]"
      ]
     },
     "execution_count": 44,
     "metadata": {},
     "output_type": "execute_result"
    }
   ],
   "source": [
    "np2_df = [np_df] + [np_df]\n",
    "np2_df"
   ]
  },
  {
   "cell_type": "code",
   "execution_count": 47,
   "metadata": {},
   "outputs": [
    {
     "name": "stdout",
     "output_type": "stream",
     "text": [
      "China\n",
      "Japan\n",
      "Taiwan\n",
      "Hong Kong\n",
      "Macao\n",
      "Phillipines\n",
      "Indonesia\n",
      "Thailand\n",
      "Vietnam\n",
      "India\n",
      "Malaysia\n"
     ]
    }
   ],
   "source": [
    "for country in np_df:\n",
    "    print(country)"
   ]
  },
  {
   "cell_type": "code",
   "execution_count": 48,
   "metadata": {},
   "outputs": [
    {
     "data": {
      "text/html": [
       "<div>\n",
       "<style scoped>\n",
       "    .dataframe tbody tr th:only-of-type {\n",
       "        vertical-align: middle;\n",
       "    }\n",
       "\n",
       "    .dataframe tbody tr th {\n",
       "        vertical-align: top;\n",
       "    }\n",
       "\n",
       "    .dataframe thead th {\n",
       "        text-align: right;\n",
       "    }\n",
       "</style>\n",
       "<table border=\"1\" class=\"dataframe\">\n",
       "  <thead>\n",
       "    <tr style=\"text-align: right;\">\n",
       "      <th></th>\n",
       "      <th>nation</th>\n",
       "      <th>visitor</th>\n",
       "    </tr>\n",
       "  </thead>\n",
       "  <tbody>\n",
       "    <tr>\n",
       "      <th>0</th>\n",
       "      <td>China</td>\n",
       "      <td>392814</td>\n",
       "    </tr>\n",
       "    <tr>\n",
       "      <th>1</th>\n",
       "      <td>Japan</td>\n",
       "      <td>206526</td>\n",
       "    </tr>\n",
       "    <tr>\n",
       "      <th>2</th>\n",
       "      <td>Taiwan</td>\n",
       "      <td>87954</td>\n",
       "    </tr>\n",
       "    <tr>\n",
       "      <th>3</th>\n",
       "      <td>Hong Kong</td>\n",
       "      <td>35896</td>\n",
       "    </tr>\n",
       "    <tr>\n",
       "      <th>4</th>\n",
       "      <td>Macao</td>\n",
       "      <td>2570</td>\n",
       "    </tr>\n",
       "    <tr>\n",
       "      <th>5</th>\n",
       "      <td>Phillipines</td>\n",
       "      <td>30473</td>\n",
       "    </tr>\n",
       "    <tr>\n",
       "      <th>6</th>\n",
       "      <td>Indonesia</td>\n",
       "      <td>18842</td>\n",
       "    </tr>\n",
       "    <tr>\n",
       "      <th>7</th>\n",
       "      <td>Thailand</td>\n",
       "      <td>41334</td>\n",
       "    </tr>\n",
       "    <tr>\n",
       "      <th>8</th>\n",
       "      <td>Vietnam</td>\n",
       "      <td>20183</td>\n",
       "    </tr>\n",
       "    <tr>\n",
       "      <th>9</th>\n",
       "      <td>India</td>\n",
       "      <td>8671</td>\n",
       "    </tr>\n",
       "    <tr>\n",
       "      <th>10</th>\n",
       "      <td>Malaysia</td>\n",
       "      <td>22065</td>\n",
       "    </tr>\n",
       "  </tbody>\n",
       "</table>\n",
       "</div>"
      ],
      "text/plain": [
       "         nation  visitor\n",
       "0         China   392814\n",
       "1         Japan   206526\n",
       "2        Taiwan    87954\n",
       "3     Hong Kong    35896\n",
       "4         Macao     2570\n",
       "5   Phillipines    30473\n",
       "6     Indonesia    18842\n",
       "7      Thailand    41334\n",
       "8       Vietnam    20183\n",
       "9         India     8671\n",
       "10     Malaysia    22065"
      ]
     },
     "execution_count": 48,
     "metadata": {},
     "output_type": "execute_result"
    }
   ],
   "source": [
    "df"
   ]
  },
  {
   "cell_type": "markdown",
   "metadata": {},
   "source": [
    "## Pandas:\n",
    "1. without specification, it shows the colums.\n",
    "2. use the .iterrows method\n",
    "3. or use .apply method instead of iteration"
   ]
  },
  {
   "cell_type": "code",
   "execution_count": 50,
   "metadata": {},
   "outputs": [
    {
     "name": "stdout",
     "output_type": "stream",
     "text": [
      "nation\n",
      "visitor\n"
     ]
    }
   ],
   "source": [
    "for what in df:\n",
    "    print(what)"
   ]
  },
  {
   "cell_type": "code",
   "execution_count": 89,
   "metadata": {},
   "outputs": [
    {
     "ename": "TypeError",
     "evalue": "unsupported operand type(s) for /: 'type' and 'int'",
     "output_type": "error",
     "traceback": [
      "\u001b[0;31m---------------------------------------------------------------------------\u001b[0m",
      "\u001b[0;31mTypeError\u001b[0m                                 Traceback (most recent call last)",
      "\u001b[0;32m<ipython-input-89-70ce89a2ae42>\u001b[0m in \u001b[0;36m<module>\u001b[0;34m\u001b[0m\n\u001b[0;32m----> 1\u001b[0;31m \u001b[0mdf\u001b[0m\u001b[0;34m[\u001b[0m\u001b[0;34m'studying2'\u001b[0m\u001b[0;34m]\u001b[0m \u001b[0;34m=\u001b[0m \u001b[0mdf\u001b[0m\u001b[0;34m[\u001b[0m\u001b[0;34m'visitor'\u001b[0m\u001b[0;34m]\u001b[0m\u001b[0;34m.\u001b[0m\u001b[0mapply\u001b[0m\u001b[0;34m(\u001b[0m\u001b[0mfloat\u001b[0m\u001b[0;34m/\u001b[0m\u001b[0;36m3\u001b[0m\u001b[0;34m)\u001b[0m\u001b[0;34m\u001b[0m\u001b[0;34m\u001b[0m\u001b[0m\n\u001b[0m\u001b[1;32m      2\u001b[0m \u001b[0mdf\u001b[0m\u001b[0;34m.\u001b[0m\u001b[0mhead\u001b[0m\u001b[0;34m(\u001b[0m\u001b[0;34m)\u001b[0m\u001b[0;34m\u001b[0m\u001b[0;34m\u001b[0m\u001b[0m\n",
      "\u001b[0;31mTypeError\u001b[0m: unsupported operand type(s) for /: 'type' and 'int'"
     ]
    }
   ],
   "source": [
    "df['studying2'] = df['visitor'].apply(float/3)\n",
    "df.head()"
   ]
  },
  {
   "cell_type": "code",
   "execution_count": 59,
   "metadata": {},
   "outputs": [
    {
     "name": "stdout",
     "output_type": "stream",
     "text": [
      "0\n",
      "nation              China\n",
      "visitor            392814\n",
      "studying    <class 'int'>\n",
      "Name: 0, dtype: object\n",
      "1\n",
      "nation              Japan\n",
      "visitor            206526\n",
      "studying    <class 'int'>\n",
      "Name: 1, dtype: object\n",
      "2\n",
      "nation             Taiwan\n",
      "visitor             87954\n",
      "studying    <class 'int'>\n",
      "Name: 2, dtype: object\n",
      "3\n",
      "nation          Hong Kong\n",
      "visitor             35896\n",
      "studying    <class 'int'>\n",
      "Name: 3, dtype: object\n",
      "4\n",
      "nation              Macao\n",
      "visitor              2570\n",
      "studying    <class 'int'>\n",
      "Name: 4, dtype: object\n",
      "5\n",
      "nation        Phillipines\n",
      "visitor             30473\n",
      "studying    <class 'int'>\n",
      "Name: 5, dtype: object\n",
      "6\n",
      "nation          Indonesia\n",
      "visitor             18842\n",
      "studying    <class 'int'>\n",
      "Name: 6, dtype: object\n",
      "7\n",
      "nation           Thailand\n",
      "visitor             41334\n",
      "studying    <class 'int'>\n",
      "Name: 7, dtype: object\n",
      "8\n",
      "nation            Vietnam\n",
      "visitor             20183\n",
      "studying    <class 'int'>\n",
      "Name: 8, dtype: object\n",
      "9\n",
      "nation              India\n",
      "visitor              8671\n",
      "studying    <class 'int'>\n",
      "Name: 9, dtype: object\n",
      "10\n",
      "nation           Malaysia\n",
      "visitor             22065\n",
      "studying    <class 'int'>\n",
      "Name: 10, dtype: object\n"
     ]
    }
   ],
   "source": [
    "for x, y in df.iterrows():\n",
    "    print(x)\n",
    "    print(y)"
   ]
  },
  {
   "cell_type": "code",
   "execution_count": 77,
   "metadata": {},
   "outputs": [],
   "source": [
    "goyang = pd.read_html('https://ko.wikipedia.org/wiki/%EA%B3%A0%EC%96%91%EC%8B%9C')\n"
   ]
  },
  {
   "cell_type": "code",
   "execution_count": 78,
   "metadata": {},
   "outputs": [
    {
     "data": {
      "text/plain": [
       "17"
      ]
     },
     "execution_count": 78,
     "metadata": {},
     "output_type": "execute_result"
    }
   ],
   "source": [
    "len(goyang)"
   ]
  },
  {
   "cell_type": "code",
   "execution_count": 81,
   "metadata": {},
   "outputs": [
    {
     "data": {
      "text/html": [
       "<div>\n",
       "<style scoped>\n",
       "    .dataframe tbody tr th:only-of-type {\n",
       "        vertical-align: middle;\n",
       "    }\n",
       "\n",
       "    .dataframe tbody tr th {\n",
       "        vertical-align: top;\n",
       "    }\n",
       "\n",
       "    .dataframe thead th {\n",
       "        text-align: right;\n",
       "    }\n",
       "</style>\n",
       "<table border=\"1\" class=\"dataframe\">\n",
       "  <thead>\n",
       "    <tr style=\"text-align: right;\">\n",
       "      <th></th>\n",
       "      <th>연도</th>\n",
       "      <th>인구</th>\n",
       "      <th>인구그래프</th>\n",
       "    </tr>\n",
       "  </thead>\n",
       "  <tbody>\n",
       "    <tr>\n",
       "      <th>0</th>\n",
       "      <td>1960년</td>\n",
       "      <td>75,859명</td>\n",
       "      <td>NaN</td>\n",
       "    </tr>\n",
       "    <tr>\n",
       "      <th>1</th>\n",
       "      <td>1966년</td>\n",
       "      <td>93,741명</td>\n",
       "      <td>NaN</td>\n",
       "    </tr>\n",
       "    <tr>\n",
       "      <th>2</th>\n",
       "      <td>1970년</td>\n",
       "      <td>130,860명</td>\n",
       "      <td>NaN</td>\n",
       "    </tr>\n",
       "    <tr>\n",
       "      <th>3</th>\n",
       "      <td>1975년</td>\n",
       "      <td>143,028명</td>\n",
       "      <td>NaN</td>\n",
       "    </tr>\n",
       "    <tr>\n",
       "      <th>4</th>\n",
       "      <td>1980년</td>\n",
       "      <td>155,601명</td>\n",
       "      <td>NaN</td>\n",
       "    </tr>\n",
       "    <tr>\n",
       "      <th>5</th>\n",
       "      <td>1985년</td>\n",
       "      <td>183,125명</td>\n",
       "      <td>NaN</td>\n",
       "    </tr>\n",
       "    <tr>\n",
       "      <th>6</th>\n",
       "      <td>1990년</td>\n",
       "      <td>244,975명</td>\n",
       "      <td>NaN</td>\n",
       "    </tr>\n",
       "    <tr>\n",
       "      <th>7</th>\n",
       "      <td>1995년</td>\n",
       "      <td>518,282명</td>\n",
       "      <td>NaN</td>\n",
       "    </tr>\n",
       "    <tr>\n",
       "      <th>8</th>\n",
       "      <td>2000년</td>\n",
       "      <td>763,971명</td>\n",
       "      <td>NaN</td>\n",
       "    </tr>\n",
       "    <tr>\n",
       "      <th>9</th>\n",
       "      <td>2005년</td>\n",
       "      <td>866,846명</td>\n",
       "      <td>NaN</td>\n",
       "    </tr>\n",
       "    <tr>\n",
       "      <th>10</th>\n",
       "      <td>2010년</td>\n",
       "      <td>905,076명</td>\n",
       "      <td>NaN</td>\n",
       "    </tr>\n",
       "    <tr>\n",
       "      <th>11</th>\n",
       "      <td>2015년</td>\n",
       "      <td>1,027,546명</td>\n",
       "      <td>NaN</td>\n",
       "    </tr>\n",
       "    <tr>\n",
       "      <th>12</th>\n",
       "      <td>2016년</td>\n",
       "      <td>1,031,890명</td>\n",
       "      <td>NaN</td>\n",
       "    </tr>\n",
       "  </tbody>\n",
       "</table>\n",
       "</div>"
      ],
      "text/plain": [
       "       연도          인구  인구그래프\n",
       "0   1960년     75,859명    NaN\n",
       "1   1966년     93,741명    NaN\n",
       "2   1970년    130,860명    NaN\n",
       "3   1975년    143,028명    NaN\n",
       "4   1980년    155,601명    NaN\n",
       "5   1985년    183,125명    NaN\n",
       "6   1990년    244,975명    NaN\n",
       "7   1995년    518,282명    NaN\n",
       "8   2000년    763,971명    NaN\n",
       "9   2005년    866,846명    NaN\n",
       "10  2010년    905,076명    NaN\n",
       "11  2015년  1,027,546명    NaN\n",
       "12  2016년  1,031,890명    NaN"
      ]
     },
     "execution_count": 81,
     "metadata": {},
     "output_type": "execute_result"
    }
   ],
   "source": [
    "goyang[2]"
   ]
  },
  {
   "cell_type": "code",
   "execution_count": 82,
   "metadata": {},
   "outputs": [],
   "source": [
    "goyang = goyang[2]"
   ]
  },
  {
   "cell_type": "code",
   "execution_count": 83,
   "metadata": {},
   "outputs": [
    {
     "data": {
      "text/plain": [
       "pandas.core.frame.DataFrame"
      ]
     },
     "execution_count": 83,
     "metadata": {},
     "output_type": "execute_result"
    }
   ],
   "source": [
    "type(goyang)"
   ]
  },
  {
   "cell_type": "code",
   "execution_count": 84,
   "metadata": {},
   "outputs": [
    {
     "name": "stdout",
     "output_type": "stream",
     "text": [
      "연도\n",
      "인구\n",
      "인구그래프\n"
     ]
    }
   ],
   "source": [
    "for x in goyang:\n",
    "    print(x)"
   ]
  },
  {
   "cell_type": "code",
   "execution_count": 86,
   "metadata": {},
   "outputs": [
    {
     "name": "stdout",
     "output_type": "stream",
     "text": [
      "0\n",
      "1\n",
      "2\n",
      "3\n",
      "4\n",
      "5\n",
      "6\n",
      "7\n",
      "8\n",
      "9\n",
      "10\n",
      "11\n",
      "12\n"
     ]
    }
   ],
   "source": [
    "for x, y in goyang.iterrows():\n",
    "    print(x)"
   ]
  },
  {
   "cell_type": "code",
   "execution_count": 99,
   "metadata": {},
   "outputs": [
    {
     "data": {
      "text/plain": [
       "float"
      ]
     },
     "execution_count": 99,
     "metadata": {},
     "output_type": "execute_result"
    }
   ],
   "source": [
    "type(np.random.rand())"
   ]
  },
  {
   "cell_type": "code",
   "execution_count": 105,
   "metadata": {},
   "outputs": [],
   "source": [
    "np.random.seed(123)"
   ]
  },
  {
   "cell_type": "code",
   "execution_count": 106,
   "metadata": {},
   "outputs": [
    {
     "data": {
      "text/plain": [
       "0.6964691855978616"
      ]
     },
     "execution_count": 106,
     "metadata": {},
     "output_type": "execute_result"
    }
   ],
   "source": [
    "np.random.rand()"
   ]
  },
  {
   "cell_type": "code",
   "execution_count": 110,
   "metadata": {},
   "outputs": [
    {
     "name": "stdout",
     "output_type": "stream",
     "text": [
      "0\n"
     ]
    }
   ],
   "source": [
    "coin1 = np.random.randint(0,2)\n",
    "print(coin1)"
   ]
  },
  {
   "cell_type": "code",
   "execution_count": 113,
   "metadata": {},
   "outputs": [
    {
     "name": "stdout",
     "output_type": "stream",
     "text": [
      "head\n"
     ]
    }
   ],
   "source": [
    "if coin1 == 0:\n",
    "    print('heads')\n",
    "else:\n",
    "    print('tails')"
   ]
  },
  {
   "cell_type": "code",
   "execution_count": 116,
   "metadata": {},
   "outputs": [
    {
     "name": "stdout",
     "output_type": "stream",
     "text": [
      "['heads', 'tails', 'heads', 'heads', 'heads', 'heads', 'heads', 'tails', 'tails', 'heads', 'tails', 'tails', 'heads', 'tails', 'heads', 'tails', 'heads', 'tails', 'tails', 'heads']\n"
     ]
    }
   ],
   "source": [
    "np.random.seed(123)\n",
    "\n",
    "outcomes =[]\n",
    "\n",
    "for x in range(20):\n",
    "    coin = np.random.randint(0,2)\n",
    "    if coin == 0:\n",
    "            outcomes.append('heads')\n",
    "    else:\n",
    "            outcomes.append('tails')\n",
    "\n",
    "print(outcomes)"
   ]
  },
  {
   "cell_type": "code",
   "execution_count": 117,
   "metadata": {},
   "outputs": [
    {
     "data": {
      "text/plain": [
       "20"
      ]
     },
     "execution_count": 117,
     "metadata": {},
     "output_type": "execute_result"
    }
   ],
   "source": [
    "len(outcomes)"
   ]
  },
  {
   "cell_type": "code",
   "execution_count": 120,
   "metadata": {},
   "outputs": [],
   "source": [
    "tails = [0]\n",
    "for x in range():\n",
    "    coin = np.random.randint(0,2)\n",
    "    tails.append(tails[x] +coin)"
   ]
  },
  {
   "cell_type": "code",
   "execution_count": 121,
   "metadata": {},
   "outputs": [
    {
     "name": "stdout",
     "output_type": "stream",
     "text": [
      "[0, 0, 1, 1, 1, 2, 2, 3, 3, 4, 5]\n"
     ]
    }
   ],
   "source": [
    "print(tails)"
   ]
  },
  {
   "cell_type": "code",
   "execution_count": 131,
   "metadata": {},
   "outputs": [
    {
     "name": "stdout",
     "output_type": "stream",
     "text": [
      "[0, 6, 5, 4, 3, 4, 5, 6, 5, 6, 7, 6, 11, 12, 11, 10, 9, 8, 9, 8, 7, 9, 10, 13, 14, 16, 17, 18, 19, 18, 17, 18, 19, 20, 21, 20, 21, 22, 23, 26, 27, 28, 27, 28, 27, 28, 29, 30, 34, 33, 32, 33, 34, 35, 34, 35, 34, 35, 37, 42, 41, 42, 43, 44, 45, 46, 47, 46, 47, 48, 49, 51, 53, 52, 53, 54, 57, 56, 57, 56, 57, 58, 59, 58, 59, 58, 59, 60, 62, 61, 60, 61, 62, 61, 63, 64, 65, 66, 67, 68, 69]\n"
     ]
    }
   ],
   "source": [
    "# Initialize random_walk\n",
    "\n",
    "random_walk = [0]\n",
    "\n",
    "# Complete the ___\n",
    "for x in range(100) :\n",
    "    # Set step: last element in random_walk\n",
    "    step = random_walk[-1]\n",
    "\n",
    "    # Roll the dice\n",
    "    dice = np.random.randint(1,7)\n",
    "\n",
    "    # Determine next step\n",
    "    if dice <= 2:\n",
    "        step = max(0, step - 1)\n",
    "    elif dice <= 5:\n",
    "        step = step + 1\n",
    "    else:\n",
    "        step = step + np.random.randint(1,7)\n",
    "\n",
    "    # append next_step to random_walk\n",
    "    random_walk.append(step)\n",
    "\n",
    "# Print random_walk\n",
    "print(random_walk)"
   ]
  },
  {
   "cell_type": "code",
   "execution_count": 123,
   "metadata": {},
   "outputs": [
    {
     "data": {
      "text/plain": [
       "101"
      ]
     },
     "execution_count": 123,
     "metadata": {},
     "output_type": "execute_result"
    }
   ],
   "source": [
    "len(random_walk)"
   ]
  },
  {
   "cell_type": "code",
   "execution_count": 124,
   "metadata": {},
   "outputs": [
    {
     "name": "stdout",
     "output_type": "stream",
     "text": [
      "[0, 1, 2, 3, 4, 3, 7, 8, 7, 8, 7, 8, 9, 10, 11, 12, 13, 14, 17, 18, 19, 20, 25, 26, 30, 31, 30, 31, 32, 31, 32, 33, 35, 36, 37, 36, 35, 36, 37, 36, 35, 36, 37, 39, 38, 37, 38, 37, 38, 39, 40, 42, 41, 42, 43, 44, 45, 46, 45, 44, 45, 44, 45, 46, 45, 48, 49, 50, 51, 50, 51, 52, 56, 55, 54, 56, 55, 56, 58, 59, 60, 65, 64, 65, 66, 67, 68, 69, 68, 73, 74, 75, 76, 75, 74, 73, 72, 71, 72, 73, 74]\n"
     ]
    }
   ],
   "source": [
    "print(random_walk)"
   ]
  },
  {
   "cell_type": "code",
   "execution_count": 130,
   "metadata": {},
   "outputs": [
    {
     "name": "stdout",
     "output_type": "stream",
     "text": [
      "10\n"
     ]
    }
   ],
   "source": [
    "\"\"\"\n",
    "For example, to make sure that a variable x never goes \n",
    "below 10 when you decrease it, you can use:\n",
    "\"\"\"\n",
    "x = 3\n",
    "x = max(10, x - 1)\n",
    "print(x)"
   ]
  },
  {
   "cell_type": "code",
   "execution_count": 132,
   "metadata": {},
   "outputs": [],
   "source": [
    "import matplotlib.pyplot as plt"
   ]
  },
  {
   "cell_type": "code",
   "execution_count": 134,
   "metadata": {},
   "outputs": [
    {
     "data": {
      "image/png": "[encoded data removed]",
      "text/plain": [
       "<Figure size 432x288 with 1 Axes>"
      ]
     },
     "metadata": {
      "needs_background": "light"
     },
     "output_type": "display_data"
    }
   ],
   "source": [
    "plt.plot(random_walk, color='pink')\n",
    "plt.xlabel('tryout')\n",
    "plt.ylabel('steps')\n",
    "plt.title('random walk')\n",
    "plt.show()"
   ]
  },
  {
   "cell_type": "code",
   "execution_count": 141,
   "metadata": {},
   "outputs": [
    {
     "name": "stdout",
     "output_type": "stream",
     "text": [
      "[4936, 5023, 4949, 5004, 4941, 5024, 4984, 4985, 4999, 5034, 4981, 4980, 5020, 5025, 4958, 5025, 5067, 5027, 4933, 5007, 4986, 5013, 4979, 5002, 5036, 5072, 4965, 4943, 5081, 5060, 5003, 4942, 5058, 5073, 5015, 4944, 5006, 5057, 5068, 4956, 4952, 5094, 5007, 5017, 4978, 4949, 4936, 5042, 4987, 4980, 4947, 5016, 5009, 5044, 4990, 4938, 4969, 4924, 4958, 5088, 5060, 4935, 4985, 5072, 4977, 5000, 5016, 4963, 4997, 5063, 4995, 5043, 4949, 5052, 5101, 5007, 4989, 5018, 5058, 5095, 5032, 4996, 5134, 4982, 5042, 5030, 4983, 4969, 4915, 4924, 5002, 4969, 4983, 4917, 4929, 5051, 4910, 4991, 5062, 5051]\n"
     ]
    }
   ],
   "source": [
    "final_tails = []\n",
    "for x in range(100):\n",
    "    tails = [0]\n",
    "    for x in range(10000):\n",
    "        coin = np.random.randint(0,2)\n",
    "        tails.append(tails[x] +coin)\n",
    "    final_tails.append(tails[-1])\n",
    "\n",
    "print(final_tails)"
   ]
  },
  {
   "cell_type": "code",
   "execution_count": 142,
   "metadata": {},
   "outputs": [
    {
     "data": {
      "image/png": "[encoded data removed]",
      "text/plain": [
       "<Figure size 432x288 with 1 Axes>"
      ]
     },
     "metadata": {
      "needs_background": "light"
     },
     "output_type": "display_data"
    }
   ],
   "source": [
    "plt.hist(final_tails, bins = 10)\n",
    "plt.show()"
   ]
  },
  {
   "cell_type": "code",
   "execution_count": 143,
   "metadata": {},
   "outputs": [
    {
     "name": "stdout",
     "output_type": "stream",
     "text": [
      "[[0, 0, 0, 1, 2, 3, 2, 3, 2, 1, 5, 6, 7, 8, 9, 10, 9, 10, 9, 8, 9, 10, 9, 10, 9, 10, 9, 8, 7, 6, 7, 8, 9, 13, 12, 11, 12, 17, 21, 22, 26, 27, 28, 29, 30, 31, 30, 35, 36, 35, 36, 37, 42, 43, 44, 45, 46, 47, 48, 53, 54, 55, 56, 57, 58, 59, 65, 70, 71, 72, 71, 72, 73, 74, 75, 74, 75, 76, 75, 74, 75, 76, 75, 80, 79, 80, 79, 80, 79, 83, 84, 85, 90, 89, 90, 89, 90, 91, 92, 91, 94], [0, 1, 3, 2, 1, 3, 4, 3, 9, 8, 9, 8, 7, 8, 9, 10, 11, 10, 16, 17, 18, 19, 18, 19, 20, 19, 20, 26, 25, 24, 23, 22, 21, 23, 24, 25, 24, 25, 24, 25, 26, 27, 26, 30, 31, 32, 31, 32, 33, 34, 35, 41, 40, 41, 45, 46, 47, 48, 53, 55, 54, 56, 55, 56, 57, 58, 59, 58, 59, 58, 63, 64, 65, 66, 69, 71, 72, 71, 70, 69, 70, 69, 68, 69, 68, 67, 70, 69, 70, 69, 68, 69, 70, 71, 70, 69, 70, 74, 75, 76, 77], [0, 2, 6, 5, 6, 7, 6, 7, 6, 7, 8, 9, 15, 16, 21, 22, 21, 20, 19, 18, 19, 25, 24, 23, 24, 25, 24, 25, 24, 25, 26, 29, 28, 29, 30, 31, 32, 31, 32, 33, 38, 37, 36, 35, 36, 35, 36, 37, 36, 37, 36, 35, 36, 35, 36, 37, 38, 39, 38, 37, 40, 42, 43, 44, 45, 46, 45, 46, 50, 49, 50, 53, 52, 55, 56, 62, 63, 64, 63, 64, 65, 66, 67, 66, 65, 64, 67, 69, 68, 74, 75, 76, 77, 76, 75, 76, 77, 78, 79, 80, 79], [0, 1, 2, 1, 2, 1, 2, 3, 2, 5, 4, 5, 4, 5, 6, 7, 8, 9, 10, 12, 11, 12, 11, 12, 11, 10, 11, 10, 11, 12, 13, 14, 17, 18, 19, 20, 21, 24, 25, 26, 25, 24, 23, 24, 25, 26, 27, 30, 31, 32, 31, 32, 33, 32, 38, 37, 36, 37, 38, 39, 40, 41, 40, 39, 38, 37, 38, 39, 40, 39, 40, 41, 42, 43, 42, 41, 42, 43, 44, 48, 50, 49, 50, 49, 48, 49, 48, 49, 50, 51, 52, 53, 52, 53, 52, 55, 56, 57, 58, 59, 58], [0, 5, 6, 5, 6, 7, 8, 9, 10, 9, 8, 7, 8, 9, 8, 14, 15, 16, 15, 16, 19, 18, 19, 21, 20, 24, 25, 24, 25, 26, 25, 24, 25, 29, 30, 31, 32, 33, 38, 39, 38, 39, 38, 37, 38, 37, 36, 37, 38, 39, 38, 40, 41, 40, 39, 40, 41, 42, 43, 44, 45, 44, 45, 46, 45, 46, 47, 46, 47, 48, 49, 50, 51, 50, 51, 52, 53, 54, 55, 56, 57, 56, 57, 56, 57, 58, 59, 60, 59, 60, 61, 62, 61, 66, 67, 66, 65, 64, 63, 62, 61], [0, 1, 2, 1, 0, 3, 2, 3, 4, 5, 6, 10, 16, 17, 16, 15, 16, 19, 18, 19, 25, 28, 29, 30, 36, 37, 38, 44, 45, 46, 47, 46, 47, 48, 49, 48, 49, 48, 49, 50, 51, 52, 51, 50, 49, 50, 51, 52, 53, 54, 53, 58, 63, 64, 65, 64, 65, 66, 67, 72, 73, 74, 75, 76, 80, 79, 80, 81, 82, 81, 82, 81, 80, 79, 80, 79, 80, 81, 82, 83, 84, 83, 84, 85, 88, 89, 90, 95, 94, 95, 96, 95, 96, 97, 98, 99, 100, 106, 107, 108, 111], [0, 1, 2, 1, 0, 1, 0, 1, 0, 3, 4, 8, 12, 11, 12, 13, 14, 13, 14, 13, 18, 19, 18, 17, 18, 19, 20, 19, 25, 26, 27, 28, 29, 30, 32, 31, 32, 36, 38, 39, 38, 39, 40, 39, 41, 42, 43, 42, 43, 42, 41, 42, 41, 44, 45, 44, 43, 44, 45, 44, 43, 44, 45, 44, 45, 44, 49, 48, 47, 48, 49, 48, 47, 48, 49, 50, 51, 52, 53, 52, 53, 56, 59, 63, 64, 65, 66, 65, 66, 68, 69, 68, 67, 66, 65, 66, 67, 68, 69, 68, 69], [0, 0, 1, 2, 3, 8, 7, 8, 12, 11, 12, 13, 14, 17, 18, 19, 18, 22, 23, 28, 29, 30, 29, 30, 31, 32, 33, 39, 38, 39, 40, 39, 42, 43, 42, 43, 42, 41, 42, 43, 44, 43, 49, 51, 52, 53, 54, 57, 58, 62, 66, 65, 64, 65, 66, 67, 68, 67, 66, 65, 66, 67, 68, 67, 69, 68, 69, 73, 74, 78, 77, 76, 75, 77, 78, 83, 82, 81, 82, 84, 85, 84, 85, 86, 87, 86, 90, 91, 90, 89, 88, 89, 88, 87, 91, 92, 91, 90, 91, 92, 91], [0, 1, 2, 3, 4, 3, 4, 3, 8, 14, 13, 12, 11, 10, 9, 10, 11, 15, 16, 17, 16, 17, 18, 17, 16, 15, 16, 15, 20, 21, 20, 21, 20, 21, 26, 32, 33, 32, 33, 34, 35, 36, 37, 38, 39, 40, 39, 40, 41, 45, 48, 47, 50, 49, 50, 49, 48, 49, 50, 52, 53, 54, 55, 54, 53, 52, 51, 52, 51, 50, 51, 50, 49, 48, 47, 48, 49, 48, 49, 50, 51, 50, 51, 50, 49, 50, 51, 50, 51, 50, 51, 53, 54, 55, 56, 57, 56, 58, 57, 58, 59], [0, 1, 2, 3, 4, 3, 2, 8, 7, 6, 7, 8, 13, 12, 13, 12, 13, 16, 17, 21, 22, 21, 20, 21, 22, 23, 24, 25, 26, 27, 26, 25, 26, 27, 28, 30, 29, 33, 32, 31, 30, 31, 33, 34, 35, 34, 35, 36, 37, 38, 39, 40, 41, 42, 41, 47, 46, 47, 51, 52, 51, 50, 51, 52, 57, 58, 57, 58, 60, 61, 66, 65, 66, 67, 66, 67, 66, 65, 67, 68, 69, 70, 71, 72, 73, 77, 76, 77, 79, 80, 79, 80, 79, 82, 86, 87, 86, 85, 88, 87, 88]]\n"
     ]
    }
   ],
   "source": [
    "all_walks = []\n",
    "\n",
    "# Simulate random walk 10 times\n",
    "for i in range(10) :\n",
    "\n",
    "    # Code from before\n",
    "    random_walk = [0]\n",
    "    for x in range(100) :\n",
    "        step = random_walk[-1]\n",
    "        dice = np.random.randint(1,7)\n",
    "\n",
    "        if dice <= 2:\n",
    "            step = max(0, step - 1)\n",
    "        elif dice <= 5:\n",
    "            step = step + 1\n",
    "        else:\n",
    "            step = step + np.random.randint(1,7)\n",
    "        random_walk.append(step)\n",
    "\n",
    "    # Append random_walk to all_walks\n",
    "    all_walks.append(random_walk)\n",
    "\n",
    "# Print all_walks\n",
    "print(all_walks)"
   ]
  },
  {
   "cell_type": "code",
   "execution_count": 148,
   "metadata": {},
   "outputs": [
    {
     "name": "stdout",
     "output_type": "stream",
     "text": [
      "[[ 0  0  0 ... 92 91 94]\n",
      " [ 0  1  3 ... 75 76 77]\n",
      " [ 0  2  6 ... 79 80 79]\n",
      " ...\n",
      " [ 0  0  1 ... 91 92 91]\n",
      " [ 0  1  2 ... 57 58 59]\n",
      " [ 0  1  2 ... 88 87 88]]\n"
     ]
    }
   ],
   "source": [
    "np_aw = np.array(all_walks)\n",
    "print(np_aw)"
   ]
  },
  {
   "cell_type": "code",
   "execution_count": 149,
   "metadata": {},
   "outputs": [
    {
     "data": {
      "text/plain": [
       "[<matplotlib.lines.Line2D at 0x7fa8dcb1f880>,\n",
       " <matplotlib.lines.Line2D at 0x7fa8dcb1f9a0>,\n",
       " <matplotlib.lines.Line2D at 0x7fa8dcb1fa60>,\n",
       " <matplotlib.lines.Line2D at 0x7fa8dcb1fb20>,\n",
       " <matplotlib.lines.Line2D at 0x7fa8dcb1fbe0>,\n",
       " <matplotlib.lines.Line2D at 0x7fa8dcb1fca0>,\n",
       " <matplotlib.lines.Line2D at 0x7fa8dcb1fd60>,\n",
       " <matplotlib.lines.Line2D at 0x7fa8dcb1fe20>,\n",
       " <matplotlib.lines.Line2D at 0x7fa8dcb1fee0>,\n",
       " <matplotlib.lines.Line2D at 0x7fa8dcb1ffa0>,\n",
       " <matplotlib.lines.Line2D at 0x7fa8dcaf2e20>,\n",
       " <matplotlib.lines.Line2D at 0x7fa8dcb86100>,\n",
       " <matplotlib.lines.Line2D at 0x7fa8dcb861f0>,\n",
       " <matplotlib.lines.Line2D at 0x7fa8dcb862b0>,\n",
       " <matplotlib.lines.Line2D at 0x7fa8dcb86370>,\n",
       " <matplotlib.lines.Line2D at 0x7fa8dcb86430>,\n",
       " <matplotlib.lines.Line2D at 0x7fa8dcb864f0>,\n",
       " <matplotlib.lines.Line2D at 0x7fa8dcb865b0>,\n",
       " <matplotlib.lines.Line2D at 0x7fa8dcb86670>,\n",
       " <matplotlib.lines.Line2D at 0x7fa8dcb86730>,\n",
       " <matplotlib.lines.Line2D at 0x7fa8dcb867f0>,\n",
       " <matplotlib.lines.Line2D at 0x7fa8dcb868b0>,\n",
       " <matplotlib.lines.Line2D at 0x7fa8dcb86970>,\n",
       " <matplotlib.lines.Line2D at 0x7fa8dcb86a30>,\n",
       " <matplotlib.lines.Line2D at 0x7fa8dcb86af0>,\n",
       " <matplotlib.lines.Line2D at 0x7fa8dcb86bb0>,\n",
       " <matplotlib.lines.Line2D at 0x7fa8dcb86c70>,\n",
       " <matplotlib.lines.Line2D at 0x7fa8dcb86d30>,\n",
       " <matplotlib.lines.Line2D at 0x7fa8dcb86df0>,\n",
       " <matplotlib.lines.Line2D at 0x7fa8dcb86eb0>,\n",
       " <matplotlib.lines.Line2D at 0x7fa8dcb86f70>,\n",
       " <matplotlib.lines.Line2D at 0x7fa8dcb8d070>,\n",
       " <matplotlib.lines.Line2D at 0x7fa8dcb8d130>,\n",
       " <matplotlib.lines.Line2D at 0x7fa8dcb8d1f0>,\n",
       " <matplotlib.lines.Line2D at 0x7fa8dcb8d2b0>,\n",
       " <matplotlib.lines.Line2D at 0x7fa8dcb8d370>,\n",
       " <matplotlib.lines.Line2D at 0x7fa8dcb8d430>,\n",
       " <matplotlib.lines.Line2D at 0x7fa8dcb8d4f0>,\n",
       " <matplotlib.lines.Line2D at 0x7fa8dcb8d5b0>,\n",
       " <matplotlib.lines.Line2D at 0x7fa8dcb8d670>,\n",
       " <matplotlib.lines.Line2D at 0x7fa8dcb8d730>,\n",
       " <matplotlib.lines.Line2D at 0x7fa8dcb8d7f0>,\n",
       " <matplotlib.lines.Line2D at 0x7fa8dcb8d8b0>,\n",
       " <matplotlib.lines.Line2D at 0x7fa8dcb8d970>,\n",
       " <matplotlib.lines.Line2D at 0x7fa8dcb8da30>,\n",
       " <matplotlib.lines.Line2D at 0x7fa8dcb8daf0>,\n",
       " <matplotlib.lines.Line2D at 0x7fa8dcb8dbb0>,\n",
       " <matplotlib.lines.Line2D at 0x7fa8dcb8dc70>,\n",
       " <matplotlib.lines.Line2D at 0x7fa8dcb8dd30>,\n",
       " <matplotlib.lines.Line2D at 0x7fa8dcb8ddf0>,\n",
       " <matplotlib.lines.Line2D at 0x7fa8dcb8deb0>,\n",
       " <matplotlib.lines.Line2D at 0x7fa8dcb8df70>,\n",
       " <matplotlib.lines.Line2D at 0x7fa8dcb95070>,\n",
       " <matplotlib.lines.Line2D at 0x7fa8dcb95130>,\n",
       " <matplotlib.lines.Line2D at 0x7fa8dcb951f0>,\n",
       " <matplotlib.lines.Line2D at 0x7fa8dcb952b0>,\n",
       " <matplotlib.lines.Line2D at 0x7fa8dcb95370>,\n",
       " <matplotlib.lines.Line2D at 0x7fa8dcb95430>,\n",
       " <matplotlib.lines.Line2D at 0x7fa8dcb954f0>,\n",
       " <matplotlib.lines.Line2D at 0x7fa8dcb955b0>,\n",
       " <matplotlib.lines.Line2D at 0x7fa8dcb95670>,\n",
       " <matplotlib.lines.Line2D at 0x7fa8dcb95760>,\n",
       " <matplotlib.lines.Line2D at 0x7fa8dcb95820>,\n",
       " <matplotlib.lines.Line2D at 0x7fa8dcb958e0>,\n",
       " <matplotlib.lines.Line2D at 0x7fa8dcb959a0>,\n",
       " <matplotlib.lines.Line2D at 0x7fa8dcb95a60>,\n",
       " <matplotlib.lines.Line2D at 0x7fa8dcb95b20>,\n",
       " <matplotlib.lines.Line2D at 0x7fa8dcb95be0>,\n",
       " <matplotlib.lines.Line2D at 0x7fa8dcb95ca0>,\n",
       " <matplotlib.lines.Line2D at 0x7fa8dcb95d60>,\n",
       " <matplotlib.lines.Line2D at 0x7fa8dcb95e20>,\n",
       " <matplotlib.lines.Line2D at 0x7fa8dcb95ee0>,\n",
       " <matplotlib.lines.Line2D at 0x7fa8dcb95fa0>,\n",
       " <matplotlib.lines.Line2D at 0x7fa8dcb9e0a0>,\n",
       " <matplotlib.lines.Line2D at 0x7fa8dcb9e160>,\n",
       " <matplotlib.lines.Line2D at 0x7fa8dcb9e220>,\n",
       " <matplotlib.lines.Line2D at 0x7fa8dcb9e2e0>,\n",
       " <matplotlib.lines.Line2D at 0x7fa8dcb9e3a0>,\n",
       " <matplotlib.lines.Line2D at 0x7fa8dcb9e460>,\n",
       " <matplotlib.lines.Line2D at 0x7fa8dcb9e520>,\n",
       " <matplotlib.lines.Line2D at 0x7fa8dcb9e5e0>,\n",
       " <matplotlib.lines.Line2D at 0x7fa8dcb9e6a0>,\n",
       " <matplotlib.lines.Line2D at 0x7fa8dcb9e760>,\n",
       " <matplotlib.lines.Line2D at 0x7fa8dcb9e820>,\n",
       " <matplotlib.lines.Line2D at 0x7fa8dcb9e8e0>,\n",
       " <matplotlib.lines.Line2D at 0x7fa8dcb9e9a0>,\n",
       " <matplotlib.lines.Line2D at 0x7fa8dcb9ea60>,\n",
       " <matplotlib.lines.Line2D at 0x7fa8dcb9eb20>,\n",
       " <matplotlib.lines.Line2D at 0x7fa8dcb9ebe0>,\n",
       " <matplotlib.lines.Line2D at 0x7fa8dcb9eca0>,\n",
       " <matplotlib.lines.Line2D at 0x7fa8dcb9ed60>,\n",
       " <matplotlib.lines.Line2D at 0x7fa8dcb9ee20>,\n",
       " <matplotlib.lines.Line2D at 0x7fa8dcb9eee0>,\n",
       " <matplotlib.lines.Line2D at 0x7fa8dcb9efa0>,\n",
       " <matplotlib.lines.Line2D at 0x7fa8dcba50a0>,\n",
       " <matplotlib.lines.Line2D at 0x7fa8dcba5160>,\n",
       " <matplotlib.lines.Line2D at 0x7fa8dcba5220>,\n",
       " <matplotlib.lines.Line2D at 0x7fa8dcba52e0>,\n",
       " <matplotlib.lines.Line2D at 0x7fa8dcba53a0>,\n",
       " <matplotlib.lines.Line2D at 0x7fa8dcba5460>,\n",
       " <matplotlib.lines.Line2D at 0x7fa8dcba5520>]"
      ]
     },
     "execution_count": 149,
     "metadata": {},
     "output_type": "execute_result"
    },
    {
     "data": {
      "image/png": "[encoded data removed]",
      "text/plain": [
       "<Figure size 432x288 with 1 Axes>"
      ]
     },
     "metadata": {
      "needs_background": "light"
     },
     "output_type": "display_data"
    }
   ],
   "source": [
    "plt.plot(np_aw)"
   ]
  },
  {
   "cell_type": "code",
   "execution_count": 153,
   "metadata": {},
   "outputs": [
    {
     "name": "stdout",
     "output_type": "stream",
     "text": [
      "[[ 0  0  0 ...  0  0  0]\n",
      " [ 0  1  2 ...  0  1  1]\n",
      " [ 0  3  6 ...  1  2  2]\n",
      " ...\n",
      " [92 75 79 ... 91 57 88]\n",
      " [91 76 80 ... 92 58 87]\n",
      " [94 77 79 ... 91 59 88]]\n"
     ]
    }
   ],
   "source": [
    "np_aw_t = np.transpose(np_aw)\n",
    "print(np_aw_t)"
   ]
  },
  {
   "cell_type": "code",
   "execution_count": 154,
   "metadata": {},
   "outputs": [
    {
     "data": {
      "text/plain": [
       "[<matplotlib.lines.Line2D at 0x7fa8dea0b850>,\n",
       " <matplotlib.lines.Line2D at 0x7fa8dea0b970>,\n",
       " <matplotlib.lines.Line2D at 0x7fa8dea0ba30>,\n",
       " <matplotlib.lines.Line2D at 0x7fa8dea0baf0>,\n",
       " <matplotlib.lines.Line2D at 0x7fa8dea0bbb0>,\n",
       " <matplotlib.lines.Line2D at 0x7fa8dea0bc70>,\n",
       " <matplotlib.lines.Line2D at 0x7fa8dea0bd30>,\n",
       " <matplotlib.lines.Line2D at 0x7fa8dea0bdf0>,\n",
       " <matplotlib.lines.Line2D at 0x7fa8dea0beb0>,\n",
       " <matplotlib.lines.Line2D at 0x7fa8dea0bf70>]"
      ]
     },
     "execution_count": 154,
     "metadata": {},
     "output_type": "execute_result"
    },
    {
     "data": {
      "image/png": "[encoded data removed]",
      "text/plain": [
       "<Figure size 432x288 with 1 Axes>"
      ]
     },
     "metadata": {
      "needs_background": "light"
     },
     "output_type": "display_data"
    }
   ],
   "source": [
    "plt.plot(np_aw_t)"
   ]
  },
  {
   "cell_type": "code",
   "execution_count": 155,
   "metadata": {},
   "outputs": [
    {
     "data": {
      "image/png": "[encoded data removed]",
      "text/plain": [
       "<Figure size 432x288 with 1 Axes>"
      ]
     },
     "metadata": {
      "needs_background": "light"
     },
     "output_type": "display_data"
    }
   ],
   "source": [
    "# numpy and matplotlib imported, seed set\n",
    "\n",
    "# Simulate random walk 500 times\n",
    "all_walks = []\n",
    "for i in range(500) :\n",
    "    random_walk = [0]\n",
    "    for x in range(100) :\n",
    "        step = random_walk[-1]\n",
    "        dice = np.random.randint(1,7)\n",
    "        if dice <= 2:\n",
    "            step = max(0, step - 1)\n",
    "        elif dice <= 5:\n",
    "            step = step + 1\n",
    "        else:\n",
    "            step = step + np.random.randint(1,7)\n",
    "        if np.random.rand() <= 0.001 :\n",
    "            step = 0\n",
    "        random_walk.append(step)\n",
    "    all_walks.append(random_walk)\n",
    "\n",
    "# Create and plot np_aw_t\n",
    "np_aw_t = np.transpose(np.array(all_walks))\n",
    "\n",
    "# Select last row from np_aw_t: ends\n",
    "ends = np_aw_t[-1,:]\n",
    "\n",
    "# Plot histogram of ends, display plot\n",
    "\n",
    "plt.hist(ends)\n",
    "plt.show()"
   ]
  },
  {
   "cell_type": "code",
   "execution_count": null,
   "metadata": {},
   "outputs": [],
   "source": []
  }
 ],
 "metadata": {
  "kernelspec": {
   "display_name": "Python 3",
   "language": "python",
   "name": "python3"
  },
  "language_info": {
   "codemirror_mode": {
    "name": "ipython",
    "version": 3
   },
   "file_extension": ".py",
   "mimetype": "text/x-python",
   "name": "python",
   "nbconvert_exporter": "python",
   "pygments_lexer": "ipython3",
   "version": "3.8.3"
  }
 },
 "nbformat": 4,
 "nbformat_minor": 4
}
